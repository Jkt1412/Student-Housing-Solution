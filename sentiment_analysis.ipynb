{
  "nbformat": 4,
  "nbformat_minor": 0,
  "metadata": {
    "colab": {
      "name": "sentiment_analysis.ipynb",
      "provenance": [],
      "collapsed_sections": []
    },
    "kernelspec": {
      "name": "python3",
      "display_name": "Python 3"
    },
    "accelerator": "GPU"
  },
  "cells": [
    {
      "cell_type": "code",
      "metadata": {
        "id": "31faL9OAd8lN",
        "colab_type": "code",
        "colab": {}
      },
      "source": [
        "import pandas as pd\n",
        "import math\n",
        "from vaderSentiment.vaderSentiment import SentimentIntensityAnalyzer\n",
        "import numpy as np\n",
        "import copy"
      ],
      "execution_count": 0,
      "outputs": []
    },
    {
      "cell_type": "code",
      "metadata": {
        "id": "o6zRnX84eFFW",
        "colab_type": "code",
        "colab": {}
      },
      "source": [
        "analyser = SentimentIntensityAnalyzer()"
      ],
      "execution_count": 0,
      "outputs": []
    },
    {
      "cell_type": "code",
      "metadata": {
        "id": "c3Fc0HaTeHLt",
        "colab_type": "code",
        "colab": {}
      },
      "source": [
        "on_campus = pd.read_csv('on_campus.csv' , na_values = 0)\n",
        "off_campus = pd.read_csv('off_campus.csv' , na_values = 0)\n",
        "housing = pd.read_csv('housing.csv' , na_values = 0)\n",
        "dorm = pd.read_csv('dorm.csv' , na_values = 0)"
      ],
      "execution_count": 0,
      "outputs": []
    },
    {
      "cell_type": "code",
      "metadata": {
        "id": "8FBNyHdGm0Dy",
        "colab_type": "code",
        "colab": {}
      },
      "source": [
        "def replace_nan(df):\n",
        "  for i in range(len(df)):\n",
        "    if type(df['title'][i]) == float and math.isnan(df['title'][i]):\n",
        "      df['title'][i] = '0'\n",
        "    if type(df['body'][i]) == float and math.isnan(df['body'][i]):\n",
        "      df['body'][i] = '0'\n",
        "    if type(df['score'][i]) == np.float64 and math.isnan(df['score'][i]):\n",
        "      df['score'][i] = '0'\n",
        "  return df"
      ],
      "execution_count": 0,
      "outputs": []
    },
    {
      "cell_type": "code",
      "metadata": {
        "id": "xic9dqJWnT3n",
        "colab_type": "code",
        "outputId": "f7d6240e-8973-4d60-b3f9-5b79b8fa59f9",
        "colab": {
          "base_uri": "https://localhost:8080/",
          "height": 191
        }
      },
      "source": [
        "oncampus = replace_nan(on_campus)\n",
        "offcampus = replace_nan(off_campus)\n",
        "housing = replace_nan(housing)\n",
        "dorm = replace_nan(dorm)"
      ],
      "execution_count": 0,
      "outputs": [
        {
          "output_type": "stream",
          "text": [
            "/usr/local/lib/python3.6/dist-packages/ipykernel_launcher.py:6: SettingWithCopyWarning: \n",
            "A value is trying to be set on a copy of a slice from a DataFrame\n",
            "\n",
            "See the caveats in the documentation: http://pandas.pydata.org/pandas-docs/stable/user_guide/indexing.html#returning-a-view-versus-a-copy\n",
            "  \n",
            "/usr/local/lib/python3.6/dist-packages/ipykernel_launcher.py:8: SettingWithCopyWarning: \n",
            "A value is trying to be set on a copy of a slice from a DataFrame\n",
            "\n",
            "See the caveats in the documentation: http://pandas.pydata.org/pandas-docs/stable/user_guide/indexing.html#returning-a-view-versus-a-copy\n",
            "  \n"
          ],
          "name": "stderr"
        }
      ]
    },
    {
      "cell_type": "code",
      "metadata": {
        "id": "Vxz0-fdZC5ko",
        "colab_type": "code",
        "colab": {}
      },
      "source": [
        "oncampus_title = np.array(oncampus['title'])\n",
        "oncampus_name = np.array(oncampus['name'])\n",
        "oncampus_body = np.array(oncampus['body'])\n",
        "oncampus_score = np.array(oncampus[\"score\"])\n",
        "offcampus_title = np.array(offcampus['title'])\n",
        "offcampus_name = np.array(offcampus['name'])\n",
        "offcampus_body = np.array(offcampus['body'])\n",
        "offcampus_score = np.array(offcampus[\"score\"])\n",
        "housing_title = np.array(housing['title'])\n",
        "housing_body = np.array(housing['body'])\n",
        "housing_score = np.array(housing['score'])\n",
        "dorm_title = np.array(dorm['title'])\n",
        "dorm_body = np.array(dorm['body'])"
      ],
      "execution_count": 0,
      "outputs": []
    },
    {
      "cell_type": "code",
      "metadata": {
        "id": "WtxXy0RXC6_3",
        "colab_type": "code",
        "colab": {}
      },
      "source": [
        "def replace_name_by_regions(list_names):\n",
        "  for i in range(len(list_names)):\n",
        "    if (list_names[i] == \"UIUC\") | (list_names[i] == \"osu\") | (list_names[i] == \"uofm\") | (list_names[i] == \"Purdue\") | (list_names[i] == \"msu\") | (list_names[i] == \"UWMadison\") | (list_names[i] == \"uofmn\") | (list_names[i] == \"IndianaUniversity\") :\n",
        "      list_names[i] = 'N'\n",
        "    elif (list_names[i] == \"berkeley\") | (list_names[i] == \"ucla\") | (list_names[i] == \"UCSantaBarbara\") | (list_names[i] == \"ucsd\") | (list_names[i] == \"asu\") | (list_names[i] == \"ucdavis\") | (list_names[i] == \"CalPoly\") | (list_names[i] == \"ucsc\") | (list_names[i] == \"USC\"):\n",
        "      list_names[i] = 'W'\n",
        "    elif (list_names[i] == \"UTAustin\") | (list_names[i] == \"aggies\") | (list_names[i] == \"LSU\") | (list_names[i] == \"UniversityOfHouston\"):\n",
        "      list_names[i] = 'S'\n",
        "    elif (list_names[i] == \"UBC\") | (list_names[i] == \"udub\") | (list_names[i] == \"mcgill\"):\n",
        "      list_names[i] = 'O'\n",
        "    else:\n",
        "      list_names[i] = 'E'\n",
        "  return list_names"
      ],
      "execution_count": 0,
      "outputs": []
    },
    {
      "cell_type": "code",
      "metadata": {
        "id": "KN0c1gljihz9",
        "colab_type": "code",
        "colab": {}
      },
      "source": [
        "oncampus_region = copy.deepcopy(oncampus_name)\n",
        "offcampus_region = copy.deepcopy(offcampus_name)"
      ],
      "execution_count": 0,
      "outputs": []
    },
    {
      "cell_type": "code",
      "metadata": {
        "id": "mvC-gYQWmWEY",
        "colab_type": "code",
        "outputId": "064bbe17-8c96-43f9-bab0-fd7d1854296c",
        "colab": {
          "base_uri": "https://localhost:8080/",
          "height": 34
        }
      },
      "source": [
        "oncampus_region = replace_name_by_regions(oncampus_region)\n",
        "offcampus_region = replace_name_by_regions(offcampus_region)"
      ],
      "execution_count": 0,
      "outputs": [
        {
          "output_type": "execute_result",
          "data": {
            "text/plain": [
              "array(['N', 'N', 'N', 'N', 'N', 'N', 'N', 'N', 'N', 'N'], dtype=object)"
            ]
          },
          "metadata": {
            "tags": []
          },
          "execution_count": 12
        }
      ]
    },
    {
      "cell_type": "code",
      "metadata": {
        "id": "SaBCL-A_eSFb",
        "colab_type": "code",
        "colab": {}
      },
      "source": [
        "def get_score(text , sentiment):\n",
        "  score = analyser.polarity_scores(text)[sentiment]\n",
        "  return score"
      ],
      "execution_count": 0,
      "outputs": []
    },
    {
      "cell_type": "code",
      "metadata": {
        "id": "lHQrnTUkCIOp",
        "colab_type": "code",
        "colab": {}
      },
      "source": [
        "def get_total_score(text_list , score_list , sentiment):\n",
        "  score = 0\n",
        "  weight = 0\n",
        "  for i in range(len(score_list)):\n",
        "    score_list[i] = score_list[i] + 1\n",
        "  \n",
        "  for i in range(len(text_list)):\n",
        "    score = score + (get_score(text_list[i] , sentiment))*(score_list[i])\n",
        "  \n",
        "  return score/len(text_list)"
      ],
      "execution_count": 0,
      "outputs": []
    },
    {
      "cell_type": "code",
      "metadata": {
        "id": "38cxu74PjPDV",
        "colab_type": "code",
        "colab": {}
      },
      "source": [
        "def get_score_for_set(a_tuple , score_list , sentiment):\n",
        "  a = a_tuple[0]\n",
        "  b = a_tuple[1]\n",
        "  return (get_total_score(a,score_list,sentiment) + get_total_score(b,score_list,sentiment))/2"
      ],
      "execution_count": 0,
      "outputs": []
    },
    {
      "cell_type": "markdown",
      "metadata": {
        "id": "PXrM4U7m7lai",
        "colab_type": "text"
      },
      "source": [
        "## Sentiment over all universities , an average"
      ]
    },
    {
      "cell_type": "code",
      "metadata": {
        "id": "4mRUanKmmYsy",
        "colab_type": "code",
        "outputId": "0afc2eda-098b-4f98-d238-901efbddd43b",
        "colab": {
          "base_uri": "https://localhost:8080/",
          "height": 86
        }
      },
      "source": [
        "print(get_score_for_set((oncampus_title , oncampus_body), oncampus_score, 'compound'))\n",
        "print(get_score_for_set((oncampus_title , oncampus_body), oncampus_score, 'pos'))\n",
        "print(get_score_for_set((oncampus_title , oncampus_body), oncampus_score, 'neg'))\n",
        "print(get_score_for_set((oncampus_title , oncampus_body), oncampus_score, 'neu'))"
      ],
      "execution_count": 0,
      "outputs": [
        {
          "output_type": "stream",
          "text": [
            "3.109151795454548\n",
            "2.480093295454548\n",
            "1.3198078409090925\n",
            "19.964635454545483\n"
          ],
          "name": "stdout"
        }
      ]
    },
    {
      "cell_type": "code",
      "metadata": {
        "id": "SFnSiehhrYyz",
        "colab_type": "code",
        "outputId": "73627b01-1085-4835-a483-8fd63b0b80f4",
        "colab": {
          "base_uri": "https://localhost:8080/",
          "height": 86
        }
      },
      "source": [
        "print(get_score_for_set((offcampus_title , offcampus_body), offcampus_score, 'compound'))\n",
        "print(get_score_for_set((offcampus_title , offcampus_body), offcampus_score, 'pos'))\n",
        "print(get_score_for_set((offcampus_title , offcampus_body), offcampus_score, 'neg'))\n",
        "print(get_score_for_set((offcampus_title , offcampus_body), offcampus_score, 'neu'))"
      ],
      "execution_count": 0,
      "outputs": [
        {
          "output_type": "stream",
          "text": [
            "2.2259992016205894\n",
            "1.1888892993326983\n",
            "0.6245474261201146\n",
            "13.357454837940868\n"
          ],
          "name": "stdout"
        }
      ]
    },
    {
      "cell_type": "markdown",
      "metadata": {
        "id": "09R2hVKX7ugH",
        "colab_type": "text"
      },
      "source": [
        "## Sentiment over regions - N,S,W,E"
      ]
    },
    {
      "cell_type": "code",
      "metadata": {
        "id": "lQK3QW8j7ydp",
        "colab_type": "code",
        "colab": {}
      },
      "source": [
        "def find_region_intervals(region_info , region):\n",
        "  r = []\n",
        "  for i in range(len(region_info)):\n",
        "    if region_info[i] == region:\n",
        "      r.append(i)\n",
        "  return r"
      ],
      "execution_count": 0,
      "outputs": []
    },
    {
      "cell_type": "code",
      "metadata": {
        "id": "ffwz98HV8NnL",
        "colab_type": "code",
        "colab": {}
      },
      "source": [
        "def sentiment_over_region(text_info , score_info , region_info , region):\n",
        "  r = find_region_intervals(region_info , region)\n",
        "  text = []\n",
        "  score = []\n",
        "  for i in r:\n",
        "    text.append(text_info[i])\n",
        "    score.append(score_info[i])\n",
        "  return text , score"
      ],
      "execution_count": 0,
      "outputs": []
    },
    {
      "cell_type": "code",
      "metadata": {
        "id": "XKPK02xM-OvR",
        "colab_type": "code",
        "colab": {}
      },
      "source": [
        "oncampus_title_N , oncampus_score_N = sentiment_over_region(oncampus_title , oncampus_score , oncampus_region , 'N')\n",
        "oncampus_body_N , _ = sentiment_over_region(oncampus_body , oncampus_score , oncampus_region , 'N')\n",
        "oncampus_title_S , oncampus_score_S = sentiment_over_region(oncampus_title , oncampus_score , oncampus_region , 'S')\n",
        "oncampus_body_S , _ = sentiment_over_region(oncampus_body , oncampus_score , oncampus_region , 'S')\n",
        "oncampus_title_W , oncampus_score_W = sentiment_over_region(oncampus_title , oncampus_score , oncampus_region , 'W')\n",
        "oncampus_body_W , _ = sentiment_over_region(oncampus_body , oncampus_score , oncampus_region , 'W')\n",
        "oncampus_title_E , oncampus_score_E = sentiment_over_region(oncampus_title , oncampus_score , oncampus_region , 'E')\n",
        "oncampus_body_E , _ = sentiment_over_region(oncampus_body , oncampus_score , oncampus_region , 'E')"
      ],
      "execution_count": 0,
      "outputs": []
    },
    {
      "cell_type": "code",
      "metadata": {
        "id": "2tCiFLMwAff3",
        "colab_type": "code",
        "colab": {}
      },
      "source": [
        "offcampus_title_N , offcampus_score_N = sentiment_over_region(offcampus_title , offcampus_score , offcampus_region , 'N')\n",
        "offcampus_body_N , _ = sentiment_over_region(offcampus_body , offcampus_score , offcampus_region , 'N')\n",
        "offcampus_title_S , offcampus_score_S = sentiment_over_region(offcampus_title , offcampus_score , offcampus_region , 'S')\n",
        "offcampus_body_S , _ = sentiment_over_region(offcampus_body , offcampus_score , offcampus_region , 'S')\n",
        "offcampus_title_W , offcampus_score_W = sentiment_over_region(offcampus_title , offcampus_score , offcampus_region , 'W')\n",
        "offcampus_body_W , _ = sentiment_over_region(offcampus_body , offcampus_score , offcampus_region , 'W')\n",
        "offcampus_title_E , offcampus_score_E = sentiment_over_region(offcampus_title , offcampus_score , offcampus_region , 'E')\n",
        "offcampus_body_E , _ = sentiment_over_region(offcampus_body , offcampus_score , offcampus_region , 'E')"
      ],
      "execution_count": 0,
      "outputs": []
    },
    {
      "cell_type": "markdown",
      "metadata": {
        "id": "EbtbkHhgBxze",
        "colab_type": "text"
      },
      "source": [
        "## Sentiment over N"
      ]
    },
    {
      "cell_type": "code",
      "metadata": {
        "id": "WnYYwnR4BzW-",
        "colab_type": "code",
        "outputId": "add46aa1-d084-4a4d-c1b8-d721a59d6d94",
        "colab": {
          "base_uri": "https://localhost:8080/",
          "height": 86
        }
      },
      "source": [
        "print(get_score_for_set((oncampus_title_N , oncampus_body_N), oncampus_score_N, 'compound'))\n",
        "print(get_score_for_set((oncampus_title_N , oncampus_body_N), oncampus_score_N, 'pos'))\n",
        "print(get_score_for_set((oncampus_title_N , oncampus_body_N), oncampus_score_N, 'neg'))\n",
        "print(get_score_for_set((oncampus_title_N , oncampus_body_N), oncampus_score_N, 'neu'))"
      ],
      "execution_count": 0,
      "outputs": [
        {
          "output_type": "stream",
          "text": [
            "8.181449749999997\n",
            "5.582620000000002\n",
            "2.2416175000000003\n",
            "38.206568749999995\n"
          ],
          "name": "stdout"
        }
      ]
    },
    {
      "cell_type": "code",
      "metadata": {
        "id": "s95Dx2qPCHA2",
        "colab_type": "code",
        "outputId": "6affde3c-678b-454c-db28-dc90c3aa6a41",
        "colab": {
          "base_uri": "https://localhost:8080/",
          "height": 86
        }
      },
      "source": [
        "print(get_score_for_set((offcampus_title_N , offcampus_body_N), offcampus_score_N, 'compound'))\n",
        "print(get_score_for_set((offcampus_title_N , offcampus_body_N), offcampus_score_N, 'pos'))\n",
        "print(get_score_for_set((offcampus_title_N , offcampus_body_N), offcampus_score_N, 'neg'))\n",
        "print(get_score_for_set((offcampus_title_N , offcampus_body_N), offcampus_score_N, 'neu'))"
      ],
      "execution_count": 0,
      "outputs": [
        {
          "output_type": "stream",
          "text": [
            "8.729500970245804\n",
            "3.6608570504527833\n",
            "1.3951888745148768\n",
            "33.996166235446296\n"
          ],
          "name": "stdout"
        }
      ]
    },
    {
      "cell_type": "markdown",
      "metadata": {
        "id": "ahpBQjVCCU1i",
        "colab_type": "text"
      },
      "source": [
        "## Sentiment over S"
      ]
    },
    {
      "cell_type": "code",
      "metadata": {
        "id": "D4Paa0cjCXo0",
        "colab_type": "code",
        "outputId": "1485a42a-22fb-4435-ea30-15d7c3e89b8c",
        "colab": {
          "base_uri": "https://localhost:8080/",
          "height": 86
        }
      },
      "source": [
        "print(get_score_for_set((oncampus_title_S , oncampus_body_S), oncampus_score_S, 'compound'))\n",
        "print(get_score_for_set((oncampus_title_S , oncampus_body_S), oncampus_score_S, 'pos'))\n",
        "print(get_score_for_set((oncampus_title_S , oncampus_body_S), oncampus_score_S, 'neg'))\n",
        "print(get_score_for_set((oncampus_title_S , oncampus_body_S), oncampus_score_S, 'neu'))"
      ],
      "execution_count": 0,
      "outputs": [
        {
          "output_type": "stream",
          "text": [
            "7.089678125000002\n",
            "4.888081249999998\n",
            "2.1897775\n",
            "39.17169000000001\n"
          ],
          "name": "stdout"
        }
      ]
    },
    {
      "cell_type": "code",
      "metadata": {
        "id": "z0mjBE5TCfHo",
        "colab_type": "code",
        "outputId": "7ff05160-0986-4e29-e39c-59ae0d351bf6",
        "colab": {
          "base_uri": "https://localhost:8080/",
          "height": 86
        }
      },
      "source": [
        "print(get_score_for_set((offcampus_title_S , offcampus_body_S), offcampus_score_S, 'compound'))\n",
        "print(get_score_for_set((offcampus_title_S , offcampus_body_S), offcampus_score_S, 'pos'))\n",
        "print(get_score_for_set((offcampus_title_S , offcampus_body_S), offcampus_score_S, 'neg'))\n",
        "print(get_score_for_set((offcampus_title_S , offcampus_body_S), offcampus_score_S, 'neu'))"
      ],
      "execution_count": 0,
      "outputs": [
        {
          "output_type": "stream",
          "text": [
            "9.141716944444449\n",
            "3.8589527777777795\n",
            "1.5028597222222224\n",
            "33.168177777777785\n"
          ],
          "name": "stdout"
        }
      ]
    },
    {
      "cell_type": "markdown",
      "metadata": {
        "id": "y1Vrgk5bCwVr",
        "colab_type": "text"
      },
      "source": [
        "## Sentiment over W"
      ]
    },
    {
      "cell_type": "code",
      "metadata": {
        "id": "7cMn4tZ_CyI5",
        "colab_type": "code",
        "outputId": "f6e62cf8-4dbb-4512-e7a6-6fd070361f69",
        "colab": {
          "base_uri": "https://localhost:8080/",
          "height": 86
        }
      },
      "source": [
        "print(get_score_for_set((oncampus_title_W , oncampus_body_W), oncampus_score_W, 'compound'))\n",
        "print(get_score_for_set((oncampus_title_W , oncampus_body_W), oncampus_score_W, 'pos'))\n",
        "print(get_score_for_set((oncampus_title_W , oncampus_body_W), oncampus_score_W, 'neg'))\n",
        "print(get_score_for_set((oncampus_title_W , oncampus_body_W), oncampus_score_W, 'neu'))"
      ],
      "execution_count": 0,
      "outputs": [
        {
          "output_type": "stream",
          "text": [
            "12.56977194444443\n",
            "7.243426111111115\n",
            "2.778173888888889\n",
            "63.2592838888889\n"
          ],
          "name": "stdout"
        }
      ]
    },
    {
      "cell_type": "code",
      "metadata": {
        "id": "eplr9HXLC4zK",
        "colab_type": "code",
        "outputId": "c738f50a-dabb-4b3c-8069-2cfe1a862ab9",
        "colab": {
          "base_uri": "https://localhost:8080/",
          "height": 86
        }
      },
      "source": [
        "print(get_score_for_set((offcampus_title_W , offcampus_body_W), offcampus_score_W, 'compound'))\n",
        "print(get_score_for_set((offcampus_title_W , offcampus_body_W), offcampus_score_W, 'pos'))\n",
        "print(get_score_for_set((offcampus_title_W , offcampus_body_W), offcampus_score_W, 'neg'))\n",
        "print(get_score_for_set((offcampus_title_W , offcampus_body_W), offcampus_score_W, 'neu'))"
      ],
      "execution_count": 0,
      "outputs": [
        {
          "output_type": "stream",
          "text": [
            "7.741157888888894\n",
            "3.1847977777777787\n",
            "1.377306111111111\n",
            "34.08184444444446\n"
          ],
          "name": "stdout"
        }
      ]
    },
    {
      "cell_type": "markdown",
      "metadata": {
        "id": "r64XMkz1DFXy",
        "colab_type": "text"
      },
      "source": [
        "## Sentiment over E"
      ]
    },
    {
      "cell_type": "code",
      "metadata": {
        "id": "CppPRWTUDG6j",
        "colab_type": "code",
        "outputId": "25bf9f84-930e-4d91-9e65-9e103e32edd9",
        "colab": {
          "base_uri": "https://localhost:8080/",
          "height": 86
        }
      },
      "source": [
        "print(get_score_for_set((oncampus_title_E , oncampus_body_E), oncampus_score_E, 'compound'))\n",
        "print(get_score_for_set((oncampus_title_E , oncampus_body_E), oncampus_score_E, 'pos'))\n",
        "print(get_score_for_set((oncampus_title_E , oncampus_body_E), oncampus_score_E, 'neg'))\n",
        "print(get_score_for_set((oncampus_title_E , oncampus_body_E), oncampus_score_E, 'neu'))"
      ],
      "execution_count": 0,
      "outputs": [
        {
          "output_type": "stream",
          "text": [
            "8.640690324999994\n",
            "5.2817395000000005\n",
            "2.3686974999999997\n",
            "43.91546300000004\n"
          ],
          "name": "stdout"
        }
      ]
    },
    {
      "cell_type": "code",
      "metadata": {
        "id": "4p_aeP8jDMMX",
        "colab_type": "code",
        "outputId": "12ed0279-ba2c-435c-9730-30608c87399f",
        "colab": {
          "base_uri": "https://localhost:8080/",
          "height": 86
        }
      },
      "source": [
        "print(get_score_for_set((offcampus_title_E , offcampus_body_E), offcampus_score_E, 'compound'))\n",
        "print(get_score_for_set((offcampus_title_E , offcampus_body_E), offcampus_score_E, 'pos'))\n",
        "print(get_score_for_set((offcampus_title_E , offcampus_body_E), offcampus_score_E, 'neg'))\n",
        "print(get_score_for_set((offcampus_title_E , offcampus_body_E), offcampus_score_E, 'neu'))"
      ],
      "execution_count": 0,
      "outputs": [
        {
          "output_type": "stream",
          "text": [
            "7.714499865807854\n",
            "3.265230273752013\n",
            "1.032972624798712\n",
            "32.668134728931804\n"
          ],
          "name": "stdout"
        }
      ]
    },
    {
      "cell_type": "markdown",
      "metadata": {
        "id": "YynJ7bWRE8Jv",
        "colab_type": "text"
      },
      "source": [
        "## Sentiment over different universities"
      ]
    },
    {
      "cell_type": "code",
      "metadata": {
        "id": "znQt795CE_qM",
        "colab_type": "code",
        "colab": {}
      },
      "source": [
        "def give_range_for_uni(name_info , name):\n",
        "  r = []\n",
        "  for i in range(len(name_info)):\n",
        "    if name_info[i] == name:\n",
        "      r.append(i)\n",
        "  return (r[0],r[-1]+1)"
      ],
      "execution_count": 0,
      "outputs": []
    },
    {
      "cell_type": "code",
      "metadata": {
        "id": "cjyY-poDLfWE",
        "colab_type": "code",
        "colab": {}
      },
      "source": [
        "def get_uni_data(text_info , score_info, name_info , name):\n",
        "  text = copy.deepcopy(text_info)\n",
        "  x,y = give_range_for_uni(name_info , name)\n",
        "  return text[x:y] , score_info[x:y] , name"
      ],
      "execution_count": 0,
      "outputs": []
    },
    {
      "cell_type": "code",
      "metadata": {
        "id": "v7-GlckvM6xW",
        "colab_type": "code",
        "colab": {}
      },
      "source": [
        "def get_all_uni_data(text_info , score_info ,name_info):\n",
        "  list1 = list(set(name_info))\n",
        "  compiled_list = []\n",
        "  compiled_scores = []\n",
        "  compiled_names = []\n",
        "  for i in list1:\n",
        "    a , b , c = get_uni_data(text_info , score_info, name_info , i)\n",
        "    compiled_list.append(a)\n",
        "    compiled_scores.append(b)\n",
        "    compiled_names.append(c)\n",
        "  return compiled_list , compiled_scores , compiled_names"
      ],
      "execution_count": 0,
      "outputs": []
    },
    {
      "cell_type": "code",
      "metadata": {
        "id": "bXys2wC2NtH6",
        "colab_type": "code",
        "colab": {}
      },
      "source": [
        "oncampus_title_compiled , oncampus_score_compiled , oncampus_name_compiled = get_all_uni_data(oncampus_title , oncampus_score, oncampus_name)\n",
        "oncampus_body_compiled , _ , _= get_all_uni_data(oncampus_body , oncampus_score, oncampus_name)"
      ],
      "execution_count": 0,
      "outputs": []
    },
    {
      "cell_type": "code",
      "metadata": {
        "id": "9t7jO2czS1OE",
        "colab_type": "code",
        "colab": {}
      },
      "source": [
        "offcampus_title_compiled , offcampus_score_compiled , offcampus_name_compiled = get_all_uni_data(offcampus_title , offcampus_score, offcampus_name)\n",
        "offcampus_body_compiled , _ , _ = get_all_uni_data(offcampus_body , offcampus_score, offcampus_name)"
      ],
      "execution_count": 0,
      "outputs": []
    },
    {
      "cell_type": "code",
      "metadata": {
        "id": "1PwMZkcqS3eS",
        "colab_type": "code",
        "outputId": "3db84448-3151-4482-d281-a5b880ae47b8",
        "colab": {
          "base_uri": "https://localhost:8080/",
          "height": 1000
        }
      },
      "source": [
        "for i in range(len(oncampus_score_compiled)):\n",
        "  print(\"The results for {} are : \".format(oncampus_name_compiled[i]))\n",
        "  print(get_score_for_set((oncampus_title_compiled[i] , oncampus_body_compiled[i]), oncampus_score_compiled[i], 'compound'))\n",
        "  print(get_score_for_set((oncampus_title_compiled[i] , oncampus_body_compiled[i]), oncampus_score_compiled[i], 'pos'))\n",
        "  print(get_score_for_set((oncampus_title_compiled[i] , oncampus_body_compiled[i]), oncampus_score_compiled[i], 'neg'))\n",
        "  print(get_score_for_set((oncampus_title_compiled[i] , oncampus_body_compiled[i]), oncampus_score_compiled[i], 'neu'))\n",
        "  print(\"**************************\")"
      ],
      "execution_count": 0,
      "outputs": [
        {
          "output_type": "stream",
          "text": [
            "The results for Pitt are : \n",
            "3.5128774999999997\n",
            "2.4778600000000006\n",
            "1.2494150000000002\n",
            "20.097124999999995\n",
            "**************************\n",
            "The results for IndianaUniversity are : \n",
            "4.163951\n",
            "2.4442399999999993\n",
            "0.38101000000000007\n",
            "13.896469999999997\n",
            "**************************\n",
            "The results for UGA are : \n",
            "1.0576135000000004\n",
            "1.7464849999999998\n",
            "1.13746\n",
            "13.768525\n",
            "**************************\n",
            "The results for rutgers are : \n",
            "-1.8186469999999992\n",
            "1.8981\n",
            "1.6855450000000003\n",
            "20.622035000000004\n",
            "**************************\n",
            "The results for UWMadison are : \n",
            "4.595242999999999\n",
            "2.88153\n",
            "0.9948000000000001\n",
            "18.162704999999995\n",
            "**************************\n",
            "The results for ucdavis are : \n",
            "1.8902299999999996\n",
            "3.1020249999999994\n",
            "2.0186450000000002\n",
            "22.990759999999998\n",
            "**************************\n",
            "The results for mcgill are : \n",
            "3.822100999999999\n",
            "2.11999\n",
            "0.96288\n",
            "18.186310000000002\n",
            "**************************\n",
            "The results for ucsc are : \n",
            "3.8569745000000006\n",
            "2.532375000000001\n",
            "1.263535\n",
            "20.010334999999998\n",
            "**************************\n",
            "The results for msu are : \n",
            "3.658623999999999\n",
            "3.092595\n",
            "0.762805\n",
            "15.660895\n",
            "**************************\n",
            "The results for UMD are : \n",
            "3.4116150000000003\n",
            "3.7120749999999996\n",
            "1.5444300000000002\n",
            "19.785025000000005\n",
            "**************************\n",
            "The results for nyu are : \n",
            "2.5466000000000006\n",
            "1.402275\n",
            "0.515555\n",
            "12.81144\n",
            "**************************\n",
            "The results for UniversityOfHouston are : \n",
            "2.204285\n",
            "1.8732699999999998\n",
            "0.9422600000000001\n",
            "19.595245000000002\n",
            "**************************\n",
            "The results for VirginiaTech are : \n",
            "6.5251295\n",
            "4.0632\n",
            "1.8584249999999995\n",
            "26.651784999999993\n",
            "**************************\n",
            "The results for UFL are : \n",
            "1.732119\n",
            "1.383105\n",
            "0.7294950000000001\n",
            "16.89171\n",
            "**************************\n",
            "The results for Purdue are : \n",
            "1.4938390000000001\n",
            "2.61347\n",
            "2.3232550000000005\n",
            "22.810945\n",
            "**************************\n",
            "The results for ncsu are : \n",
            "3.0324150000000003\n",
            "2.7268700000000003\n",
            "1.74681\n",
            "20.138180000000006\n",
            "**************************\n",
            "The results for osu are : \n",
            "4.20862\n",
            "3.668755\n",
            "1.956435\n",
            "21.054889999999993\n",
            "**************************\n",
            "The results for UCSantaBarbara are : \n",
            "1.8989670000000003\n",
            "1.757824999999999\n",
            "1.12874\n",
            "16.787985\n",
            "**************************\n",
            "The results for aggies are : \n",
            "2.515378000000001\n",
            "4.0619000000000005\n",
            "3.189165\n",
            "33.51406\n",
            "**************************\n",
            "The results for RPI are : \n",
            "5.349409999999999\n",
            "3.231275000000001\n",
            "1.275465\n",
            "24.694299999999995\n",
            "**************************\n",
            "The results for berkeley are : \n",
            "3.5348254999999997\n",
            "3.4736850000000006\n",
            "2.1666350000000003\n",
            "30.318535\n",
            "**************************\n",
            "The results for UCONN are : \n",
            "0.5533504999999997\n",
            "1.04915\n",
            "0.9794200000000001\n",
            "16.052955\n",
            "**************************\n",
            "The results for gatech are : \n",
            "8.400766500000003\n",
            "4.547689999999999\n",
            "1.6328250000000004\n",
            "29.50280999999999\n",
            "**************************\n",
            "The results for udub are : \n",
            "5.8290999999999995\n",
            "3.610175\n",
            "1.18398\n",
            "26.74533499999999\n",
            "**************************\n",
            "The results for MIT are : \n",
            "4.038075\n",
            "1.61491\n",
            "0.9110750000000001\n",
            "14.925355000000001\n",
            "**************************\n",
            "The results for uofmn are : \n",
            "3.7557034999999996\n",
            "3.70662\n",
            "1.514015\n",
            "28.757134999999998\n",
            "**************************\n",
            "The results for UIUC are : \n",
            "4.731728000000001\n",
            "3.675715\n",
            "2.3743350000000003\n",
            "27.522699999999993\n",
            "**************************\n",
            "The results for rit are : \n",
            "3.2262880000000003\n",
            "2.45108\n",
            "1.3287550000000001\n",
            "25.170539999999995\n",
            "**************************\n",
            "The results for uwaterloo are : \n",
            "1.5612125\n",
            "2.1544100000000004\n",
            "2.608305\n",
            "24.804235000000006\n",
            "**************************\n",
            "The results for LSU are : \n",
            "3.32731\n",
            "1.52219\n",
            "0.556765\n",
            "12.587354999999999\n",
            "**************************\n",
            "The results for USC are : \n",
            "2.8133904999999997\n",
            "1.5254400000000001\n",
            "0.6221949999999999\n",
            "16.097539999999995\n",
            "**************************\n",
            "The results for UVA are : \n",
            "3.5725475000000007\n",
            "1.3312499999999998\n",
            "0.594435\n",
            "15.271559999999997\n",
            "**************************\n",
            "The results for ucsd are : \n",
            "1.6112884999999992\n",
            "1.58572\n",
            "1.047025\n",
            "16.36535\n",
            "**************************\n",
            "The results for UTAustin are : \n",
            "5.379564499999999\n",
            "3.751599999999999\n",
            "1.222485\n",
            "23.176095000000004\n",
            "**************************\n",
            "The results for uofm are : \n",
            "3.0934600000000003\n",
            "2.933390000000001\n",
            "1.2513750000000001\n",
            "19.125100000000003\n",
            "**************************\n",
            "The results for NEU are : \n",
            "3.3256749999999995\n",
            "2.145715\n",
            "1.10445\n",
            "22.37421999999999\n",
            "**************************\n",
            "The results for ucla are : \n",
            "3.550599\n",
            "2.0632900000000003\n",
            "0.87812\n",
            "16.056404999999994\n",
            "**************************\n",
            "The results for UBC are : \n",
            "-0.6367310000000006\n",
            "3.6241700000000003\n",
            "3.935295\n",
            "30.822664999999994\n",
            "**************************\n",
            "The results for UofT are : \n",
            "6.748513000000003\n",
            "2.7584549999999997\n",
            "2.01062\n",
            "29.176249999999996\n",
            "**************************\n",
            "The results for ucf are : \n",
            "1.2502319999999998\n",
            "2.170245\n",
            "1.3385699999999998\n",
            "19.571225\n",
            "**************************\n",
            "The results for fsu are : \n",
            "1.9235449999999998\n",
            "1.4970599999999998\n",
            "0.48345499999999997\n",
            "12.409445\n",
            "**************************\n",
            "The results for CalPoly are : \n",
            "6.621739999999999\n",
            "2.96436\n",
            "0.684515\n",
            "24.218705\n",
            "**************************\n",
            "The results for PennStateUniversity are : \n",
            "3.1463394999999994\n",
            "2.291585\n",
            "0.873565\n",
            "13.859340000000003\n",
            "**************************\n",
            "The results for asu are : \n",
            "3.5851524999999995\n",
            "2.104165\n",
            "0.5787300000000001\n",
            "19.134765\n",
            "**************************\n"
          ],
          "name": "stdout"
        }
      ]
    },
    {
      "cell_type": "code",
      "metadata": {
        "id": "fCt_-g6pT6N-",
        "colab_type": "code",
        "outputId": "83d04a79-77ea-4ec7-f130-9053330d7ca7",
        "colab": {
          "base_uri": "https://localhost:8080/",
          "height": 1000
        }
      },
      "source": [
        "for i in range(len(offcampus_score_compiled)):\n",
        "  print(\"The results for {} are : \".format(offcampus_name_compiled[i]))\n",
        "  print(get_score_for_set((offcampus_title_compiled[i] , offcampus_body_compiled[i]), offcampus_score_compiled[i], 'compound'))\n",
        "  print(get_score_for_set((offcampus_title_compiled[i] , offcampus_body_compiled[i]), offcampus_score_compiled[i], 'pos'))\n",
        "  print(get_score_for_set((offcampus_title_compiled[i] , offcampus_body_compiled[i]), offcampus_score_compiled[i], 'neg'))\n",
        "  print(get_score_for_set((offcampus_title_compiled[i] , offcampus_body_compiled[i]), offcampus_score_compiled[i], 'neu'))\n",
        "  print(\"**************************\")"
      ],
      "execution_count": 0,
      "outputs": [
        {
          "output_type": "stream",
          "text": [
            "The results for Pitt are : \n",
            "1.9293865000000003\n",
            "0.9057099999999999\n",
            "0.40193\n",
            "14.153175000000001\n",
            "**************************\n",
            "The results for IndianaUniversity are : \n",
            "2.706863698630138\n",
            "1.0551164383561642\n",
            "0.27897260273972607\n",
            "12.476575342465754\n",
            "**************************\n",
            "The results for UGA are : \n",
            "2.5498285000000003\n",
            "1.308995\n",
            "0.504425\n",
            "11.673335\n",
            "**************************\n",
            "The results for rutgers are : \n",
            "1.267779\n",
            "0.7870349999999998\n",
            "0.610285\n",
            "12.251189999999998\n",
            "**************************\n",
            "The results for UWMadison are : \n",
            "3.2524464999999987\n",
            "3.1612199999999993\n",
            "1.670505\n",
            "19.487339999999996\n",
            "**************************\n",
            "The results for ucdavis are : \n",
            "2.7155515\n",
            "1.1242249999999998\n",
            "0.6019800000000001\n",
            "15.29685\n",
            "**************************\n",
            "The results for mcgill are : \n",
            "2.5793524999999997\n",
            "1.213065\n",
            "0.9388550000000001\n",
            "13.816190000000004\n",
            "**************************\n",
            "The results for ucsc are : \n",
            "1.7825884999999992\n",
            "1.03654\n",
            "0.38358500000000006\n",
            "13.638794999999996\n",
            "**************************\n",
            "The results for msu are : \n",
            "2.2351164999999993\n",
            "0.980695\n",
            "0.39028\n",
            "10.996144999999997\n",
            "**************************\n",
            "The results for UMD are : \n",
            "1.4552764999999996\n",
            "1.1141550000000002\n",
            "0.43\n",
            "11.858645\n",
            "**************************\n",
            "The results for nyu are : \n",
            "4.1632055\n",
            "1.59478\n",
            "0.84501\n",
            "14.190765000000003\n",
            "**************************\n",
            "The results for UniversityOfHouston are : \n",
            "2.731217\n",
            "1.06969\n",
            "0.3934\n",
            "12.388290000000001\n",
            "**************************\n",
            "The results for VirginiaTech are : \n",
            "4.978180999999999\n",
            "2.1573499999999997\n",
            "0.392485\n",
            "13.496879999999997\n",
            "**************************\n",
            "The results for UFL are : \n",
            "1.648482\n",
            "1.0191350000000003\n",
            "0.277385\n",
            "10.626325\n",
            "**************************\n",
            "The results for Purdue are : \n",
            "1.2037385\n",
            "0.9667099999999998\n",
            "0.8290299999999999\n",
            "11.951735\n",
            "**************************\n",
            "The results for ncsu are : \n",
            "1.7273295000000002\n",
            "0.9491149999999999\n",
            "0.37702\n",
            "12.250295000000001\n",
            "**************************\n",
            "The results for osu are : \n",
            "2.6088285\n",
            "1.2960200000000002\n",
            "0.56791\n",
            "12.88027\n",
            "**************************\n",
            "The results for UCSantaBarbara are : \n",
            "1.7444190000000002\n",
            "0.8656\n",
            "0.411195\n",
            "12.621849999999998\n",
            "**************************\n",
            "The results for aggies are : \n",
            "3.7106725000000003\n",
            "1.6739000000000002\n",
            "0.632535\n",
            "13.375229999999997\n",
            "**************************\n",
            "The results for RPI are : \n",
            "2.3486165\n",
            "0.8822449999999997\n",
            "0.4535700000000001\n",
            "13.700660000000003\n",
            "**************************\n",
            "The results for berkeley are : \n",
            "5.360986999999999\n",
            "1.95426\n",
            "1.2048200000000002\n",
            "20.27725\n",
            "**************************\n",
            "The results for UCONN are : \n",
            "1.6976980000000004\n",
            "0.6590500000000002\n",
            "0.15652499999999997\n",
            "9.582989999999999\n",
            "**************************\n",
            "The results for gatech are : \n",
            "0.2610569999999999\n",
            "1.66389\n",
            "0.81891\n",
            "15.805315\n",
            "**************************\n",
            "The results for udub are : \n",
            "0.9273180000000001\n",
            "1.2801500000000001\n",
            "1.3501149999999997\n",
            "15.334975000000004\n",
            "**************************\n",
            "The results for MIT are : \n",
            "4.291145833333332\n",
            "1.0677916666666665\n",
            "0.29318055555555556\n",
            "14.872430555555557\n",
            "**************************\n",
            "The results for uofmn are : \n",
            "2.3223925\n",
            "1.2816150000000002\n",
            "0.9756450000000001\n",
            "14.333679999999996\n",
            "**************************\n",
            "The results for UIUC are : \n",
            "2.993224500000001\n",
            "1.14847\n",
            "0.43643\n",
            "14.427895\n",
            "**************************\n",
            "The results for rit are : \n",
            "1.9415620000000005\n",
            "0.89011\n",
            "0.484415\n",
            "12.992175000000003\n",
            "**************************\n",
            "The results for uwaterloo are : \n",
            "1.6788725\n",
            "0.869575\n",
            "0.25409499999999996\n",
            "11.434285000000003\n",
            "**************************\n",
            "The results for LSU are : \n",
            "3.115426666666667\n",
            "1.8060833333333333\n",
            "1.5936250000000003\n",
            "14.530975000000005\n",
            "**************************\n",
            "The results for USC are : \n",
            "1.6333920000000004\n",
            "0.7690299999999999\n",
            "0.6494749999999999\n",
            "11.546450000000004\n",
            "**************************\n",
            "The results for UVA are : \n",
            "4.627131481481482\n",
            "1.176351851851852\n",
            "0.23746296296296293\n",
            "20.028574074074072\n",
            "**************************\n",
            "The results for ucsd are : \n",
            "2.3083050000000007\n",
            "0.9062349999999999\n",
            "0.30911\n",
            "13.45912\n",
            "**************************\n",
            "The results for UTAustin are : \n",
            "1.8520034999999997\n",
            "1.23203\n",
            "0.694945\n",
            "13.448094999999995\n",
            "**************************\n",
            "The results for uofm are : \n",
            "2.667360999999999\n",
            "0.9680199999999999\n",
            "0.34784\n",
            "13.534960000000002\n",
            "**************************\n",
            "The results for NEU are : \n",
            "1.618251\n",
            "0.87219\n",
            "0.731845\n",
            "11.727619999999998\n",
            "**************************\n",
            "The results for ucla are : \n",
            "1.9570765000000003\n",
            "1.10773\n",
            "0.5352450000000001\n",
            "12.088914999999997\n",
            "**************************\n",
            "The results for UBC are : \n",
            "1.6570510000000007\n",
            "1.5030650000000003\n",
            "1.7391\n",
            "20.538965000000005\n",
            "**************************\n",
            "The results for UofT are : \n",
            "-0.32063649999999927\n",
            "0.710365\n",
            "0.64937\n",
            "12.4618\n",
            "**************************\n",
            "The results for ucf are : \n",
            "1.477243\n",
            "0.9207749999999997\n",
            "0.45346999999999993\n",
            "10.602594999999997\n",
            "**************************\n",
            "The results for fsu are : \n",
            "2.394094000000001\n",
            "1.08885\n",
            "0.22669500000000004\n",
            "11.013635\n",
            "**************************\n",
            "The results for CalPoly are : \n",
            "1.1600269999999995\n",
            "1.55302\n",
            "1.2984400000000003\n",
            "15.54272\n",
            "**************************\n",
            "The results for PennStateUniversity are : \n",
            "2.3335525\n",
            "0.963495\n",
            "0.20382500000000006\n",
            "10.957474999999999\n",
            "**************************\n",
            "The results for asu are : \n",
            "2.2106745\n",
            "0.8817799999999999\n",
            "0.24482499999999996\n",
            "10.12565\n",
            "**************************\n"
          ],
          "name": "stdout"
        }
      ]
    },
    {
      "cell_type": "code",
      "metadata": {
        "id": "LLkwZ_otIrwM",
        "colab_type": "code",
        "colab": {}
      },
      "source": [
        "df = []\n",
        "tanjiro = []\n",
        "for i in range(len(offcampus_score_compiled)):\n",
        "  tanjiro.append(offcampus_name_compiled[i])\n",
        "  tanjiro.append(get_score_for_set((offcampus_title_compiled[i] , offcampus_body_compiled[i]), offcampus_score_compiled[i], 'compound'))\n",
        "  tanjiro.append(get_score_for_set((offcampus_title_compiled[i] , offcampus_body_compiled[i]), offcampus_score_compiled[i], 'pos'))\n",
        "  tanjiro.append(get_score_for_set((offcampus_title_compiled[i] , offcampus_body_compiled[i]), offcampus_score_compiled[i], 'neg'))\n",
        "  df.append(tanjiro)\n",
        "  tanjiro = []"
      ],
      "execution_count": 0,
      "outputs": []
    },
    {
      "cell_type": "code",
      "metadata": {
        "id": "DoRHF-K_KhcK",
        "colab_type": "code",
        "colab": {}
      },
      "source": [
        "df_offcampus = pd.DataFrame(df, columns = ['University Name', 'Compound' , 'Positive' , 'Negative'])\n",
        "df_offcampus.to_csv('university_offcampus.csv', index=False)"
      ],
      "execution_count": 0,
      "outputs": []
    },
    {
      "cell_type": "markdown",
      "metadata": {
        "id": "4S6Overaikqt",
        "colab_type": "text"
      },
      "source": [
        "# Making hapiness curves"
      ]
    },
    {
      "cell_type": "code",
      "metadata": {
        "id": "l-r8Rzyxiqyl",
        "colab_type": "code",
        "colab": {}
      },
      "source": [
        "print(get_score_for_set((oncampus_title , oncampus_body), oncampus_score, 'compound'))\n",
        "print(get_score_for_set((oncampus_title , oncampus_body), oncampus_score, 'pos'))\n",
        "print(get_score_for_set((oncampus_title , oncampus_body), oncampus_score, 'neg'))\n",
        "print(get_score_for_set((oncampus_title , oncampus_body), oncampus_score, 'neu'))"
      ],
      "execution_count": 0,
      "outputs": []
    },
    {
      "cell_type": "code",
      "metadata": {
        "id": "d5YbsZ1K8aFm",
        "colab_type": "code",
        "colab": {}
      },
      "source": [
        "def get_curve_data(text_info1 , text_info2 , score_info , sentiment):\n",
        "  curve_data = []\n",
        "  tet = []\n",
        "  for i in range(len(text_info1)):\n",
        "    s1 = get_score(text_info1[i] , sentiment) * (score_info[i])\n",
        "    s2 = get_score(text_info2[i] , sentiment) * (score_info[i])\n",
        "    s = (s1 + s2) / 2\n",
        "    if s > 25:\n",
        "      tet.append([text_info1[i],text_info2[i]])\n",
        "    curve_data.append(s)\n",
        "  return np.array(curve_data) , np.array(tet)"
      ],
      "execution_count": 0,
      "outputs": []
    },
    {
      "cell_type": "code",
      "metadata": {
        "id": "48sesvjyEgB7",
        "colab_type": "code",
        "colab": {}
      },
      "source": [
        "a , b = get_curve_data(offcampus_title , offcampus_body , offcampus_score , 'neg')"
      ],
      "execution_count": 0,
      "outputs": []
    },
    {
      "cell_type": "code",
      "metadata": {
        "id": "l_ShaCxZPPmF",
        "colab_type": "code",
        "outputId": "6980ea89-9307-4a0d-beb7-33f3c177741d",
        "colab": {
          "base_uri": "https://localhost:8080/",
          "height": 89
        }
      },
      "source": [
        "b[7]"
      ],
      "execution_count": 0,
      "outputs": [
        {
          "output_type": "execute_result",
          "data": {
            "text/plain": [
              "array(['I’m tired of not feeling safe off campus. [Rant]',\n",
              "       'I like going to UW. I like my classes, my major, my professors, etc. But I HATE going off campus.\\n\\nYesterday, on my way back from Trader Joe’s a homeless man high off who knows what, masterbated  in front of me.....at 9AM. A few weeks ago there were stabbings on the Ave. Before that, my friend got a knife pulled on him while walking home. Last year, one of my closest friends (an extremely fit/strong man) was jumped and beaten up pretty bad. When I hold my girlfriends hand in public (off campus) often we get catcalled, asked to kiss, people touch themselves...(we’re lesbians). \\n\\nI’m tired of clutching my pepper spray every time I walk on the Ave or anywhere in the U-District. I’m tired of feeling scared when my friends or loved ones go out late at night. I’m tired of not feeling safe.\\n\\nI’m from another major city, and our homeless population and crime was no where near this prominent. As a naive freshmen, I desperately wanted to move to Seattle after graduation. Now that I’m in my junior year of college, I no longer hold this idea close to me.\\n\\nI know I may sound like a brat or ignorant to the fact that this happens in other cities. But I’m overwhelmed and tired and scared to go out. I’m sure some other people here feel this way.\\n\\nIf you’re an incoming student, I’m sorry to say that this is a part of UW and the U-District no one warned me about. So they probably didn’t warn you.\\n\\nThanks for listening.'],\n",
              "      dtype='<U5689')"
            ]
          },
          "metadata": {
            "tags": []
          },
          "execution_count": 68
        }
      ]
    },
    {
      "cell_type": "code",
      "metadata": {
        "id": "5NCy2EehEmkG",
        "colab_type": "code",
        "colab": {}
      },
      "source": [
        "import matplotlib.pyplot as plt\n",
        "%matplotlib inline"
      ],
      "execution_count": 0,
      "outputs": []
    },
    {
      "cell_type": "code",
      "metadata": {
        "id": "Q9swmnLWF-SN",
        "colab_type": "code",
        "outputId": "8f85ace7-a357-4977-9480-b8f0cbbc6971",
        "colab": {
          "base_uri": "https://localhost:8080/",
          "height": 873
        }
      },
      "source": [
        "plt.hist(a , bins = 100)"
      ],
      "execution_count": 0,
      "outputs": [
        {
          "output_type": "execute_result",
          "data": {
            "text/plain": [
              "(array([3.718e+03, 2.270e+02, 7.300e+01, 4.800e+01, 3.800e+01, 1.900e+01,\n",
              "        1.100e+01, 7.000e+00, 9.000e+00, 5.000e+00, 6.000e+00, 4.000e+00,\n",
              "        2.000e+00, 2.000e+00, 3.000e+00, 0.000e+00, 0.000e+00, 1.000e+00,\n",
              "        1.000e+00, 2.000e+00, 0.000e+00, 0.000e+00, 1.000e+00, 1.000e+00,\n",
              "        1.000e+00, 1.000e+00, 2.000e+00, 0.000e+00, 1.000e+00, 0.000e+00,\n",
              "        1.000e+00, 1.000e+00, 2.000e+00, 2.000e+00, 1.000e+00, 1.000e+00,\n",
              "        0.000e+00, 0.000e+00, 0.000e+00, 0.000e+00, 1.000e+00, 0.000e+00,\n",
              "        1.000e+00, 0.000e+00, 0.000e+00, 0.000e+00, 0.000e+00, 0.000e+00,\n",
              "        0.000e+00, 0.000e+00, 0.000e+00, 0.000e+00, 0.000e+00, 0.000e+00,\n",
              "        0.000e+00, 0.000e+00, 0.000e+00, 0.000e+00, 1.000e+00, 0.000e+00,\n",
              "        0.000e+00, 0.000e+00, 0.000e+00, 0.000e+00, 0.000e+00, 1.000e+00,\n",
              "        0.000e+00, 0.000e+00, 0.000e+00, 0.000e+00, 0.000e+00, 0.000e+00,\n",
              "        0.000e+00, 0.000e+00, 0.000e+00, 0.000e+00, 0.000e+00, 0.000e+00,\n",
              "        0.000e+00, 0.000e+00, 0.000e+00, 0.000e+00, 0.000e+00, 0.000e+00,\n",
              "        0.000e+00, 0.000e+00, 0.000e+00, 0.000e+00, 0.000e+00, 0.000e+00,\n",
              "        0.000e+00, 0.000e+00, 0.000e+00, 0.000e+00, 0.000e+00, 0.000e+00,\n",
              "        0.000e+00, 0.000e+00, 0.000e+00, 1.000e+00]),\n",
              " array([ 0.     ,  0.95892,  1.91784,  2.87676,  3.83568,  4.7946 ,\n",
              "         5.75352,  6.71244,  7.67136,  8.63028,  9.5892 , 10.54812,\n",
              "        11.50704, 12.46596, 13.42488, 14.3838 , 15.34272, 16.30164,\n",
              "        17.26056, 18.21948, 19.1784 , 20.13732, 21.09624, 22.05516,\n",
              "        23.01408, 23.973  , 24.93192, 25.89084, 26.84976, 27.80868,\n",
              "        28.7676 , 29.72652, 30.68544, 31.64436, 32.60328, 33.5622 ,\n",
              "        34.52112, 35.48004, 36.43896, 37.39788, 38.3568 , 39.31572,\n",
              "        40.27464, 41.23356, 42.19248, 43.1514 , 44.11032, 45.06924,\n",
              "        46.02816, 46.98708, 47.946  , 48.90492, 49.86384, 50.82276,\n",
              "        51.78168, 52.7406 , 53.69952, 54.65844, 55.61736, 56.57628,\n",
              "        57.5352 , 58.49412, 59.45304, 60.41196, 61.37088, 62.3298 ,\n",
              "        63.28872, 64.24764, 65.20656, 66.16548, 67.1244 , 68.08332,\n",
              "        69.04224, 70.00116, 70.96008, 71.919  , 72.87792, 73.83684,\n",
              "        74.79576, 75.75468, 76.7136 , 77.67252, 78.63144, 79.59036,\n",
              "        80.54928, 81.5082 , 82.46712, 83.42604, 84.38496, 85.34388,\n",
              "        86.3028 , 87.26172, 88.22064, 89.17956, 90.13848, 91.0974 ,\n",
              "        92.05632, 93.01524, 93.97416, 94.93308, 95.892  ]),\n",
              " <a list of 100 Patch objects>)"
            ]
          },
          "metadata": {
            "tags": []
          },
          "execution_count": 69
        },
        {
          "output_type": "display_data",
          "data": {
            "image/png": "[encoded data removed]",
            "text/plain": [
              "<Figure size 432x288 with 1 Axes>"
            ]
          },
          "metadata": {
            "tags": []
          }
        }
      ]
    },
    {
      "cell_type": "code",
      "metadata": {
        "id": "iten4WZ3Gejl",
        "colab_type": "code",
        "colab": {}
      },
      "source": [
        "def create_5_number_summaries(data):\n",
        "  min_data = data.min()\n",
        "  max_data = data.max()\n",
        "  quartiles = np.percentile(data , [25 , 50 ,75])\n",
        "  print(\"The min value is : {}\".format(min_data))\n",
        "  print(\"The 1st quartile value is : {}\".format(quartiles[0]))\n",
        "  print(\"The median value is : {}\".format(quartiles[1]))\n",
        "  print(\"The 3rd quartile is : {}\".format(quartiles[2]))\n",
        "  print(\"The max value is : {}\".format(max_data))"
      ],
      "execution_count": 0,
      "outputs": []
    },
    {
      "cell_type": "code",
      "metadata": {
        "id": "zpFr00QJHAIo",
        "colab_type": "code",
        "outputId": "ad70bb32-94e2-4c07-bdb0-e296a2617a38",
        "colab": {
          "base_uri": "https://localhost:8080/",
          "height": 104
        }
      },
      "source": [
        "create_5_number_summaries(a)"
      ],
      "execution_count": 0,
      "outputs": [
        {
          "output_type": "stream",
          "text": [
            "The min value is : 0.0\n",
            "The 1st quartile value is : 0.256\n",
            "The median value is : 0.637\n",
            "The 3rd quartile is : 1.44225\n",
            "The max value is : 124.254\n"
          ],
          "name": "stdout"
        }
      ]
    },
    {
      "cell_type": "code",
      "metadata": {
        "id": "Kiylrd7fM8DS",
        "colab_type": "code",
        "colab": {}
      },
      "source": [
        ""
      ],
      "execution_count": 0,
      "outputs": []
    }
  ]
}