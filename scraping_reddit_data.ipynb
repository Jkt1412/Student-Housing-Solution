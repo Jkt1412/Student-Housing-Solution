{
  "nbformat": 4,
  "nbformat_minor": 0,
  "metadata": {
    "colab": {
      "name": "scraping_reddit_data.ipynb",
      "provenance": [],
      "collapsed_sections": []
    },
    "kernelspec": {
      "name": "python3",
      "display_name": "Python 3"
    },
    "accelerator": "GPU"
  },
  "cells": [
    {
      "cell_type": "code",
      "metadata": {
        "id": "u2s2o_q1H8a7",
        "colab_type": "code",
        "colab": {}
      },
      "source": [
        "import praw\n",
        "import pandas as pd\n",
        "import datetime as dt"
      ],
      "execution_count": 0,
      "outputs": []
    },
    {
      "cell_type": "markdown",
      "metadata": {
        "id": "gyjcn7V0xtQd",
        "colab_type": "text"
      },
      "source": [
        "For running the below code one needs to have a reddit account , get developer access and input username and password below in the respective fields.\n",
        "I have hidden my password below , if want to run this code, you would have to login using Reddit Credentials"
      ]
    },
    {
      "cell_type": "code",
      "metadata": {
        "id": "9_F5iOTTIOEP",
        "colab_type": "code",
        "colab": {}
      },
      "source": [
        "reddit = praw.Reddit(client_id='9KH51ohIPhPwQw', client_secret='W7A2fSuRaElQTYl4mqZ2P_-wWpw', user_agent='Data Mining Project', username='Jkt42', password='##########')"
      ],
      "execution_count": 0,
      "outputs": []
    },
    {
      "cell_type": "code",
      "metadata": {
        "id": "k4OI4SFYJ6w-",
        "colab_type": "code",
        "colab": {}
      },
      "source": [
        "list_of_subreddits = ['UIUC','berkeley','UTAustin','uwaterloo','aggies','gatech','osu','rit','UofT','VirginiaTech','ucf','uofm','ucla','rutgers','Purdue','PennStateUniversity','UMD','UBC','UCSantaBarbara','msu','ucsd','UGA','asu','udub','fsu','Pitt','UWMadison','RPI','mcgill','ucdavis','ncsu','uofmn','CalPoly','ucsc','UCONN','LSU','IndianaUniversity','USC','MIT','UniversityOfHouston','NEU','UVA','UFL','nyu']\n",
        "list_of_keywords = ['on campus','off campus','housing','dorm']"
      ],
      "execution_count": 0,
      "outputs": []
    },
    {
      "cell_type": "code",
      "metadata": {
        "id": "kIBZDia5YGdA",
        "colab_type": "code",
        "colab": {}
      },
      "source": [
        "topics_dict = {\"title\":[],\"score\":[],\"comms_num\": [],\"body\":[],\"id\":[],\"name\":[]}"
      ],
      "execution_count": 0,
      "outputs": []
    },
    {
      "cell_type": "code",
      "metadata": {
        "id": "AtJ0Gva9KzLN",
        "colab_type": "code",
        "colab": {}
      },
      "source": [
        "topics_data = []\n",
        "for i in list_of_keywords:\n",
        "  #subreddit = reddit.subreddit(i)\n",
        "  for j in list_of_subreddits:\n",
        "    subreddit = reddit.subreddit(j)\n",
        "    search_subreddit = subreddit.search(i)\n",
        "    for submission in search_subreddit:\n",
        "      topics_dict[\"title\"].append(submission.title)\n",
        "      topics_dict[\"score\"].append(submission.score)\n",
        "      topics_dict[\"comms_num\"].append(submission.num_comments)\n",
        "      topics_dict[\"body\"].append(submission.selftext)\n",
        "      topics_dict[\"id\"].append(submission.id)\n",
        "      topics_dict[\"name\"].append(j)\n",
        "  topics_data.append(pd.DataFrame(topics_dict))\n",
        "  topics_dict = {\"title\":[],\"score\":[],\"comms_num\": [],\"body\":[],\"id\":[],\"name\":[]}"
      ],
      "execution_count": 0,
      "outputs": []
    },
    {
      "cell_type": "code",
      "metadata": {
        "id": "O1t5I-OmR4iD",
        "colab_type": "code",
        "colab": {}
      },
      "source": [
        "topics_data[0].to_csv('on_campus.csv', index=False)\n",
        "topics_data[1].to_csv('off_campus.csv', index=False)\n",
        "topics_data[2].to_csv('housing.csv', index=False)\n",
        "topics_data[3].to_csv('dorm.csv', index=False)"
      ],
      "execution_count": 0,
      "outputs": []
    }
  ]
}